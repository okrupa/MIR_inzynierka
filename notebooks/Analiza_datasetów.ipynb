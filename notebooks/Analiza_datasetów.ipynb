{
  "nbformat": 4,
  "nbformat_minor": 0,
  "metadata": {
    "colab": {
      "provenance": []
    },
    "kernelspec": {
      "name": "python3",
      "display_name": "Python 3"
    },
    "language_info": {
      "name": "python"
    }
  },
  "cells": [
    {
      "cell_type": "code",
      "source": [
        "%%capture\n",
        "!pip install numpy\n",
        "!pip install --no-cache-dir --upgrade music-fsl"
      ],
      "metadata": {
        "id": "asR9S6ZhM0m1"
      },
      "execution_count": null,
      "outputs": []
    },
    {
      "cell_type": "code",
      "source": [
        "from google.colab import drive\n",
        "drive.mount('/content/drive')"
      ],
      "metadata": {
        "id": "NWBp4sS8EKdr"
      },
      "execution_count": null,
      "outputs": []
    },
    {
      "cell_type": "code",
      "source": [
        "from collections import defaultdict\n",
        "\n",
        "import numpy as np\n",
        "import random\n",
        "\n",
        "import music_fsl.util as util\n",
        "from music_fsl.data import ClassConditionalDataset\n",
        "import torch\n",
        "from typing import List, Dict, Any, Tuple"
      ],
      "metadata": {
        "id": "_gqchiNMM6BA"
      },
      "execution_count": null,
      "outputs": []
    },
    {
      "cell_type": "markdown",
      "source": [
        "##TinySOL"
      ],
      "metadata": {
        "id": "PFnGen0-Mc1R"
      }
    },
    {
      "cell_type": "code",
      "source": [
        "import os\n",
        "import pandas as pd\n",
        "import librosa\n",
        "class TinySOLDataAnalyzer(ClassConditionalDataset):\n",
        "\n",
        "    INSTRUMENTS = [\n",
        "        'Bassoon', 'Viola', 'Trumpet in C', 'Bass Tuba',\n",
        "        'Alto Saxophone', 'French Horn', 'Violin', \n",
        "        'Flute', 'Contrabass', 'Trombone', 'Cello', \n",
        "        'Clarinet in Bb', 'Oboe', 'Accordion'\n",
        "    ]\n",
        "\n",
        "    def __init__(self, \n",
        "            dataset_path: str = None\n",
        "        ):\n",
        "        self.instruments = self.INSTRUMENTS\n",
        "\n",
        "        # initialize the tinysol dataset\n",
        "        metadata = os.path.join(dataset_path, 'TinySOL_metadata.csv')\n",
        "        df = pd.read_csv(metadata) \n",
        "        paths = df.iloc[:, 0].apply(lambda x: os.path.join(dataset_path, x))\n",
        "        paths = paths.values.tolist()\n",
        "        labels = df.iloc[:, 4].values\n",
        "\n",
        "        # make sure the instruments passed in are valid\n",
        "        for instrument in self.instruments:\n",
        "            assert instrument in self.instruments, f\"{instrument} is not a valid instrument\"\n",
        "\n",
        "        # load all tracks for this instrument\n",
        "        self.tracks = []\n",
        "        for path, label in zip(paths, labels):\n",
        "            if label in self.instruments:\n",
        "              self.tracks.append([path, label])\n",
        "\n",
        "    @property\n",
        "    def classlist(self) -> List[str]:\n",
        "        return self.instruments\n",
        "\n",
        "    @property\n",
        "    def class_to_indices(self) -> Dict[str, List[int]]:\n",
        "        # cache it in self._class_to_indices \n",
        "        # so we don't have to recompute it every time\n",
        "        if not hasattr(self, \"_class_to_indices\"):\n",
        "            self._class_to_indices = defaultdict(list)\n",
        "            for i, track in enumerate(self.tracks):\n",
        "                self._class_to_indices[track[1]].append(i)\n",
        "\n",
        "        return self._class_to_indices\n",
        "\n",
        "    def __getitem__(self, index) -> Dict:\n",
        "        # load the track for this index\n",
        "        track = self.tracks[index]\n",
        "        data= {\n",
        "        \"path\": track[0], \n",
        "        \"label\": track[1]\n",
        "        }\n",
        "        return data\n",
        "    def get_durations(self):\n",
        "      durations = []\n",
        "      for i in self.tracks:\n",
        "        y, sr = librosa.load(path = i[0])\n",
        "        durations.append(librosa.get_duration(y=y, sr=sr))\n",
        "      return durations\n",
        "\n",
        "\n",
        "    def __len__(self) -> int:\n",
        "        return len(self.tracks)"
      ],
      "metadata": {
        "id": "qECtJRSsMwoA"
      },
      "execution_count": null,
      "outputs": []
    },
    {
      "cell_type": "code",
      "source": [
        "tinysol = TinySOLDataAnalyzer(\"/content/drive/MyDrive/TinySOL2020\")"
      ],
      "metadata": {
        "id": "CZ64d6miQ48g"
      },
      "execution_count": null,
      "outputs": []
    },
    {
      "cell_type": "code",
      "source": [
        "print(f\"The dataset has {len(tinysol)} examples.\")\n",
        "print(f\"The dataset has {len(tinysol.classlist)} classes.\\n\")\n",
        "\n",
        "dataset_split = []\n",
        "# print the number of examples for each class\n",
        "for instrument, indices in tinysol.class_to_indices.items():\n",
        "    dataset_split.append([instrument, len(indices) ])\n",
        "    print(f\"{instrument} has {len(indices)} examples\")"
      ],
      "metadata": {
        "colab": {
          "base_uri": "https://localhost:8080/"
        },
        "id": "8kAtGRLKRZdy",
        "outputId": "f6503179-b5fd-490e-be90-e3bcc9c4a1c9"
      },
      "execution_count": null,
      "outputs": [
        {
          "output_type": "stream",
          "name": "stdout",
          "text": [
            "The dataset has 2913 examples.\n",
            "The dataset has 14 classes.\n",
            "\n",
            "Bass Tuba has 108 examples\n",
            "French Horn has 134 examples\n",
            "Trombone has 117 examples\n",
            "Trumpet in C has 96 examples\n",
            "Accordion has 689 examples\n",
            "Cello has 291 examples\n",
            "Contrabass has 309 examples\n",
            "Viola has 309 examples\n",
            "Violin has 284 examples\n",
            "Alto Saxophone has 99 examples\n",
            "Bassoon has 126 examples\n",
            "Clarinet in Bb has 126 examples\n",
            "Flute has 118 examples\n",
            "Oboe has 107 examples\n"
          ]
        }
      ]
    },
    {
      "cell_type": "code",
      "source": [
        "durations = tinysol.get_durations()"
      ],
      "metadata": {
        "id": "rid4n_TNTsXK"
      },
      "execution_count": null,
      "outputs": []
    },
    {
      "cell_type": "code",
      "source": [
        "import numpy as np\n",
        "mean = np.mean(durations)\n",
        "print(f'mean: {mean}')\n",
        "\n",
        "min = np.min(durations)\n",
        "print(f'min: {min}')\n",
        "\n",
        "max = np.max(durations)\n",
        "print(f'max: {max}')\n",
        "\n",
        "std = np.std(durations)\n",
        "print(f'std: {std}')"
      ],
      "metadata": {
        "colab": {
          "base_uri": "https://localhost:8080/"
        },
        "id": "9vEcle8ljgkJ",
        "outputId": "bd24394d-7324-42b0-a981-d0246f667373"
      },
      "execution_count": null,
      "outputs": [
        {
          "output_type": "stream",
          "name": "stdout",
          "text": [
            "mean: 6.674925648025544\n",
            "min: 1.3151927437641724\n",
            "max: 16.235374149659865\n",
            "std: 1.4805903826507871\n"
          ]
        }
      ]
    },
    {
      "cell_type": "code",
      "source": [
        "import numpy as np\n",
        "num = [i[1] for i in dataset_split]\n",
        "mean = np.mean(num)\n",
        "print(f'mean: {mean}')\n",
        "\n",
        "min = np.min(num)\n",
        "print(f'min: {min}')\n",
        "\n",
        "max = np.max(num)\n",
        "print(f'max: {max}')\n",
        "\n",
        "std = np.std(num)\n",
        "print(f'std: {std}')"
      ],
      "metadata": {
        "colab": {
          "base_uri": "https://localhost:8080/"
        },
        "id": "zEIRSBpd1fsy",
        "outputId": "e5bbff68-ad91-4590-c5f9-650551060562"
      },
      "execution_count": null,
      "outputs": [
        {
          "output_type": "stream",
          "name": "stdout",
          "text": [
            "mean: 208.07142857142858\n",
            "min: 96\n",
            "max: 689\n",
            "std: 156.83451892530107\n"
          ]
        }
      ]
    },
    {
      "cell_type": "code",
      "source": [
        "import numpy as np\n",
        "import matplotlib.pyplot as plt\n",
        " \n",
        "instruments = [i[0] for i in dataset_split]\n",
        "print(instruments)\n",
        "values = [i[1] for i in dataset_split]\n",
        "print(values)\n",
        "  \n",
        "print\n",
        "fig = plt.figure(figsize = (15, 7))\n",
        " \n",
        "# creating the bar plot\n",
        "plt.bar(instruments, values, color ='maroon',\n",
        "        width = 0.4)\n",
        "plt.yticks(fontsize=20)\n",
        "plt.xticks(fontsize=15)\n",
        "plt.xticks(rotation=30)\n",
        "plt.xlabel(\"Instrumenty\")\n",
        "plt.ylabel(\"Liczba instrumentów\")\n",
        "plt.savefig('/content/tinysol_distribution.png')\n",
        "plt.show()"
      ],
      "metadata": {
        "colab": {
          "base_uri": "https://localhost:8080/",
          "height": 423
        },
        "id": "WZbH_IJCkbTu",
        "outputId": "b8c34e0c-4e0b-41a2-ee42-062a40a80305"
      },
      "execution_count": null,
      "outputs": [
        {
          "output_type": "stream",
          "name": "stdout",
          "text": [
            "['clarinet', 'distorted electric guitar', 'female singer', 'flute', 'piano', 'tenor saxophone', 'trumpet', 'violin']\n",
            "[1311, 1854, 1744, 3555, 6032, 477, 627, 5971]\n"
          ]
        },
        {
          "output_type": "display_data",
          "data": {
            "text/plain": [
              "<Figure size 1080x504 with 1 Axes>"
            ],
            "image/png": "[encoded data removed]"
          },
          "metadata": {
            "needs_background": "light"
          }
        }
      ]
    },
    {
      "cell_type": "markdown",
      "source": [
        "## MedleySoloDb\n"
      ],
      "metadata": {
        "id": "5tIUwUix53yn"
      }
    },
    {
      "cell_type": "code",
      "source": [
        "import os\n",
        "import pandas as pd\n",
        "\n",
        "class MedleySolosDb(ClassConditionalDataset):\n",
        "\n",
        "    INSTRUMENTS = [\n",
        "        'clarinet',\n",
        "        'distorted electric guitar',\n",
        "        'female singer',\n",
        "        'flute',\n",
        "        'piano',\n",
        "        'tenor saxophone',\n",
        "        'trumpet',\n",
        "        'violin'\n",
        "    ]\n",
        "\n",
        "    def __init__(self, \n",
        "            dataset_path: str = None,\n",
        "        ):\n",
        "\n",
        "        self.instruments = self.INSTRUMENTS  \n",
        "\n",
        "        metadata = os.path.join(dataset_path, 'Medley-solos-DB_metadata.csv')\n",
        "        df = pd.read_csv(metadata) \n",
        "\n",
        "        # make sure the instruments passed in are valid\n",
        "        for instrument in self.instruments:\n",
        "            assert instrument in self.INSTRUMENTS, f\"{instrument} is not a valid instrument\"\n",
        "\n",
        "        # load all tracks for this instrument\n",
        "        self.tracks = []\n",
        "        for index, row in df.iterrows():\n",
        "            if row['instrument'] in self.instruments:\n",
        "                file_name = f'Medley-solos-DB_{row[\"subset\"]}-{row[\"instrument_id\"]}_{row[\"uuid4\"]}.wav.wav'\n",
        "                wav_file = os.path.join(dataset_path, 'Medley-solos-DB', file_name)\n",
        "                self.tracks.append([wav_file, row['instrument']])\n",
        "\n",
        "\n",
        "    @property\n",
        "    def classlist(self) -> List[str]:\n",
        "        return self.instruments\n",
        "\n",
        "    @property\n",
        "    def class_to_indices(self) -> Dict[str, List[int]]:\n",
        "        # cache it in self._class_to_indices \n",
        "        # so we don't have to recompute it every time\n",
        "        if not hasattr(self, \"_class_to_indices\"):\n",
        "            self._class_to_indices = defaultdict(list)\n",
        "            for i, track in enumerate(self.tracks):\n",
        "                self._class_to_indices[track[1]].append(i)\n",
        "\n",
        "        return self._class_to_indices\n",
        "\n",
        "    def __getitem__(self, index) -> Dict:\n",
        "        # load the track for this index\n",
        "        track = self.tracks[index]\n",
        "        data= {\n",
        "        \"path\": track[0], \n",
        "        \"label\": track[1]\n",
        "        }\n",
        "        return data\n",
        "        \n",
        "    def get_durations(self):\n",
        "      durations = []\n",
        "      for i in self.tracks:\n",
        "        y, sr = librosa.load(path = i[0])\n",
        "        durations.append(librosa.get_duration(y=y, sr=sr))\n",
        "      return durations\n",
        "\n",
        "    def __len__(self) -> int:\n",
        "        return len(self.tracks)"
      ],
      "metadata": {
        "id": "KSYJ_oHj52v9"
      },
      "execution_count": null,
      "outputs": []
    },
    {
      "cell_type": "code",
      "source": [
        "medleysolosdb = MedleySolosDb(\"/content/drive/MyDrive/Medley-solos-DB\")"
      ],
      "metadata": {
        "id": "nt43lrQi6ZmN"
      },
      "execution_count": null,
      "outputs": []
    },
    {
      "cell_type": "code",
      "source": [
        "print(f\"The dataset has {len(medleysolosdb)} examples.\")\n",
        "print(f\"The dataset has {len(medleysolosdb.classlist)} classes.\\n\")\n",
        "\n",
        "dataset_split = []\n",
        "# print the number of examples for each class\n",
        "for instrument, indices in medleysolosdb.class_to_indices.items():\n",
        "    dataset_split.append([instrument, len(indices) ])\n",
        "    print(f\"{instrument} has {len(indices)} examples\")"
      ],
      "metadata": {
        "colab": {
          "base_uri": "https://localhost:8080/"
        },
        "id": "XwM5SxvW7TMO",
        "outputId": "3ee70305-e236-4fcd-b9f8-2a6fda474f09"
      },
      "execution_count": null,
      "outputs": [
        {
          "output_type": "stream",
          "name": "stdout",
          "text": [
            "The dataset has 21571 examples.\n",
            "The dataset has 8 classes.\n",
            "\n",
            "clarinet has 1311 examples\n",
            "distorted electric guitar has 1854 examples\n",
            "female singer has 1744 examples\n",
            "flute has 3555 examples\n",
            "piano has 6032 examples\n",
            "tenor saxophone has 477 examples\n",
            "trumpet has 627 examples\n",
            "violin has 5971 examples\n"
          ]
        }
      ]
    },
    {
      "cell_type": "code",
      "source": [
        "durations_medleysolosdb = medleysolosdb.get_durations()"
      ],
      "metadata": {
        "id": "mgXGWeLl7dV2"
      },
      "execution_count": null,
      "outputs": []
    },
    {
      "cell_type": "code",
      "source": [
        "import numpy as np\n",
        "mean = np.mean(durations_medleysolosdb)\n",
        "print(f'mean: {mean}')\n",
        "\n",
        "min = np.min(durations_medleysolosdb)\n",
        "print(f'min: {min}')\n",
        "\n",
        "max = np.max(durations_medleysolosdb)\n",
        "print(f'max: {max}')\n",
        "\n",
        "std = np.std(durations_medleysolosdb)\n",
        "print(f'std: {std}')"
      ],
      "metadata": {
        "id": "kPNJbeFI7t9a"
      },
      "execution_count": null,
      "outputs": []
    },
    {
      "cell_type": "code",
      "source": [
        "import numpy as np\n",
        "num = [i[1] for i in dataset_split]\n",
        "mean = np.mean(num)\n",
        "print(f'mean: {mean}')\n",
        "\n",
        "min = np.min(num)\n",
        "print(f'min: {min}')\n",
        "\n",
        "max = np.max(num)\n",
        "print(f'max: {max}')\n",
        "\n",
        "std = np.std(num)\n",
        "print(f'std: {std}')"
      ],
      "metadata": {
        "colab": {
          "base_uri": "https://localhost:8080/"
        },
        "id": "Q2BBigy77ybd",
        "outputId": "63525658-8851-49df-a706-bccb170e039d"
      },
      "execution_count": null,
      "outputs": [
        {
          "output_type": "stream",
          "name": "stdout",
          "text": [
            "mean: 2696.375\n",
            "min: 477\n",
            "max: 6032\n",
            "std: 2101.505884925141\n"
          ]
        }
      ]
    },
    {
      "cell_type": "code",
      "source": [
        "import numpy as np\n",
        "import matplotlib.pyplot as plt\n",
        " \n",
        "instruments = [i[0] for i in dataset_split]\n",
        "print(instruments)\n",
        "values = [i[1] for i in dataset_split]\n",
        "print(values)\n",
        "  \n",
        "print\n",
        "fig = plt.figure(figsize = (15, 7))\n",
        " \n",
        "# creating the bar plot\n",
        "plt.bar(instruments, values, color ='maroon',\n",
        "        width = 0.4)\n",
        "plt.yticks(fontsize=20)\n",
        "plt.xticks(fontsize=15)\n",
        "plt.xticks(rotation=30)\n",
        "plt.xlabel(\"Instrumenty\")\n",
        "plt.ylabel(\"Liczba instrumentów\")\n",
        "plt.savefig('/content/medleysolosdb_distribution.png')\n",
        "plt.show()"
      ],
      "metadata": {
        "colab": {
          "base_uri": "https://localhost:8080/",
          "height": 589
        },
        "id": "dAYLMSuA73vq",
        "outputId": "c76ae7de-5b04-46a9-ec7b-66502230939c"
      },
      "execution_count": null,
      "outputs": [
        {
          "output_type": "stream",
          "name": "stdout",
          "text": [
            "['clarinet', 'distorted electric guitar', 'female singer', 'flute', 'piano', 'tenor saxophone', 'trumpet', 'violin']\n",
            "[1311, 1854, 1744, 3555, 6032, 477, 627, 5971]\n"
          ]
        },
        {
          "output_type": "display_data",
          "data": {
            "text/plain": [
              "<Figure size 1080x504 with 1 Axes>"
            ],
            "image/png": "[encoded data removed]"
          },
          "metadata": {
            "needs_background": "light"
          }
        }
      ]
    },
    {
      "cell_type": "markdown",
      "source": [
        "##GoodSounds\n"
      ],
      "metadata": {
        "id": "KLTWcEhoQrgD"
      }
    },
    {
      "cell_type": "code",
      "source": [
        "class GoodSounds(ClassConditionalDataset):\n",
        "    \"\"\"\n",
        "    Initialize a `GoodSounds Dataset Loader` dataset instance.\n",
        "    \n",
        "    Args:\n",
        "        instruments (List[str]): A list of instruments to include in the dataset.\n",
        "        duration (float): The duration of each audio clip in the dataset (in seconds).\n",
        "        sample_rate (int): The sample rate of the audio clips in the dataset (in Hz).\n",
        "        dataset - loaded mirdata.dataset\n",
        "    \"\"\"\n",
        "\n",
        "    INSTRUMENTS = [\n",
        "        'flute', 'cello', 'clarinet', 'trumpet', 'violin', 'sax_alto', 'sax_tenor', 'sax_bariton', 'sax_soprane', 'oboe', 'piccolo', 'bass'\n",
        "    ]\n",
        "\n",
        "    def __init__(self, \n",
        "            dataset_path: str = None\n",
        "        ):\n",
        "\n",
        "        self.instruments = self.INSTRUMENTS  \n",
        "        self.dataset_path = dataset_path\n",
        "\n",
        "        # make sure the instruments passed in are valid\n",
        "        for instrument in self.instruments:\n",
        "            assert instrument in self.INSTRUMENTS, f\"{instrument} is not a valid instrument\"\n",
        "\n",
        "        # load all tracks for this instrument\n",
        "        self.tracks = []\n",
        "        for dir in os.listdir(self.dataset_path):\n",
        "            ins = dir.split('_')[0]\n",
        "            if ins in self.instruments:\n",
        "                for subdir_dir, dirs_dir, files_dir in os.walk(os.path.join(self.dataset_path, dir, 'neumann')):\n",
        "                    for file in files_dir:\n",
        "                        if file.endswith('.wav'):\n",
        "                            self.tracks.append([os.path.join(self.dataset_path, dir, 'neumann', file), ins])\n",
        "            else:\n",
        "                ins = f'{dir.split(\"_\")[0]}_{dir.split(\"_\")[1]}'\n",
        "                if ins in self.instruments:\n",
        "                    for subdir_dir, dirs_dir, files_dir in os.walk(os.path.join(self.dataset_path, dir, 'neumann')):\n",
        "                        for file in files_dir:\n",
        "                            if file.endswith('.wav'):\n",
        "                                self.tracks.append([os.path.join(self.dataset_path, dir, 'neumann', file), ins])\n",
        "\n",
        "\n",
        "    @property\n",
        "    def classlist(self) -> List[str]:\n",
        "        return self.instruments\n",
        "\n",
        "    @property\n",
        "    def class_to_indices(self) -> Dict[str, List[int]]:\n",
        "        # cache it in self._class_to_indices \n",
        "        # so we don't have to recompute it every time\n",
        "        if not hasattr(self, \"_class_to_indices\"):\n",
        "            self._class_to_indices = defaultdict(list)\n",
        "            for i, track in enumerate(self.tracks):\n",
        "                self._class_to_indices[track[1]].append(i)\n",
        "\n",
        "        return self._class_to_indices\n",
        "\n",
        "    def __getitem__(self, index) -> Dict:\n",
        "        # load the track for this index\n",
        "        track = self.tracks[index]\n",
        "        data= {\n",
        "        \"path\": track[0], \n",
        "        \"label\": track[1]\n",
        "        }\n",
        "        return data\n",
        "\n",
        "\n",
        "    def __len__(self) -> int:\n",
        "        return len(self.tracks)"
      ],
      "metadata": {
        "id": "uHh46zqtQtX3"
      },
      "execution_count": null,
      "outputs": []
    },
    {
      "cell_type": "code",
      "source": [
        "goodsounds = GoodSounds('/content/drive/MyDrive/good_sounds/sound_files')"
      ],
      "metadata": {
        "id": "HJYfEnnERKHD"
      },
      "execution_count": null,
      "outputs": []
    },
    {
      "cell_type": "code",
      "source": [
        "print(f\"The dataset has {len(goodsounds)} examples.\")\n",
        "print(f\"The dataset has {len(goodsounds.classlist)} classes.\\n\")\n",
        "\n",
        "dataset_split = []\n",
        "# print the number of examples for each class\n",
        "for instrument, indices in goodsounds.class_to_indices.items():\n",
        "    dataset_split.append([instrument, len(indices) ])\n",
        "    print(f\"{instrument} has {len(indices)} examples\")"
      ],
      "metadata": {
        "colab": {
          "base_uri": "https://localhost:8080/"
        },
        "id": "pGJqFH6eRdL8",
        "outputId": "b2100984-73ad-4a64-dc8c-3d2c8b77f1c2"
      },
      "execution_count": null,
      "outputs": [
        {
          "output_type": "stream",
          "name": "stdout",
          "text": [
            "The dataset has 7823 examples.\n",
            "The dataset has 12 classes.\n",
            "\n",
            "violin has 1053 examples\n",
            "cello has 951 examples\n",
            "oboe has 247 examples\n",
            "flute has 968 examples\n",
            "sax_soprane has 334 examples\n",
            "clarinet has 1671 examples\n",
            "bass has 159 examples\n",
            "trumpet has 920 examples\n",
            "sax_tenor has 449 examples\n",
            "sax_alto has 395 examples\n",
            "sax_bariton has 288 examples\n",
            "piccolo has 388 examples\n"
          ]
        }
      ]
    },
    {
      "cell_type": "code",
      "source": [
        "import numpy as np\n",
        "num = [i[1] for i in dataset_split]\n",
        "mean = np.mean(num)\n",
        "print(f'mean: {mean}')\n",
        "\n",
        "min = np.min(num)\n",
        "print(f'min: {min}')\n",
        "\n",
        "max = np.max(num)\n",
        "print(f'max: {max}')\n",
        "\n",
        "std = np.std(num)\n",
        "print(f'std: {std}')"
      ],
      "metadata": {
        "colab": {
          "base_uri": "https://localhost:8080/"
        },
        "id": "fwMBVRFWRnaD",
        "outputId": "272bf297-5019-40b8-8b77-ec1b61ffeadf"
      },
      "execution_count": null,
      "outputs": [
        {
          "output_type": "stream",
          "name": "stdout",
          "text": [
            "mean: 651.9166666666666\n",
            "min: 159\n",
            "max: 1671\n",
            "std: 435.6882406670572\n"
          ]
        }
      ]
    },
    {
      "cell_type": "code",
      "source": [
        "import numpy as np\n",
        "import matplotlib.pyplot as plt\n",
        " \n",
        "instruments = [i[0] for i in dataset_split]\n",
        "print(instruments)\n",
        "values = [i[1] for i in dataset_split]\n",
        "print(values)\n",
        "  \n",
        "print\n",
        "fig = plt.figure(figsize = (15, 7))\n",
        " \n",
        "# creating the bar plot\n",
        "plt.bar(instruments, values, color ='maroon',\n",
        "        width = 0.4)\n",
        "plt.yticks(fontsize=20)\n",
        "plt.xticks(fontsize=15)\n",
        "plt.xticks(rotation=30)\n",
        "plt.xlabel(\"Instrumenty\")\n",
        "plt.ylabel(\"Liczba instrumentów\")\n",
        "plt.savefig('/content/goodsounds_distribution.png')\n",
        "plt.show()"
      ],
      "metadata": {
        "colab": {
          "base_uri": "https://localhost:8080/",
          "height": 396
        },
        "id": "_c22IVNfRpt-",
        "outputId": "83a680c9-1ca7-4d07-f03b-5f37e9a82a9b"
      },
      "execution_count": null,
      "outputs": [
        {
          "output_type": "stream",
          "name": "stdout",
          "text": [
            "['violin', 'cello', 'oboe', 'flute', 'sax_soprane', 'clarinet', 'bass', 'trumpet', 'sax_tenor', 'sax_alto', 'sax_bariton', 'piccolo']\n",
            "[1053, 951, 247, 968, 334, 1671, 159, 920, 449, 395, 288, 388]\n"
          ]
        },
        {
          "output_type": "display_data",
          "data": {
            "text/plain": [
              "<Figure size 1080x504 with 1 Axes>"
            ],
            "image/png": "[encoded data removed]"
          },
          "metadata": {
            "needs_background": "light"
          }
        }
      ]
    },
    {
      "cell_type": "markdown",
      "source": [
        "##Irmas\n"
      ],
      "metadata": {
        "id": "5dNxuPmXhcLc"
      }
    },
    {
      "cell_type": "code",
      "source": [
        "from collections import defaultdict\n",
        "import mirdata\n",
        "import music_fsl.util as util\n",
        "from typing import List, Dict\n",
        "import os\n",
        "import sys\n",
        "\n",
        "\n",
        "class IRMAS(ClassConditionalDataset):\n",
        "    \"\"\"\n",
        "    Initialize a `IRMAS` dataset instance.\n",
        "\n",
        "    Args:\n",
        "        instruments (List[str]): A list of instruments to include in the dataset.\n",
        "        duration (float): The duration of each audio clip in the dataset (in seconds).\n",
        "        sample_rate (int): The sample rate of the audio clips in the dataset (in Hz).\n",
        "    \"\"\"\n",
        "\n",
        "    INSTRUMENTS = [\n",
        "        'Cello', 'Clarinet', 'Flute', 'Acoustic guitar',\n",
        "        'Electric guitar', 'Organ', 'Piano', \n",
        "        'Saxophone', 'Trumpet', 'Violin', 'Human singing voice'\n",
        "    ]\n",
        "\n",
        "    INSTRUMENTS_KEY = {\n",
        "        'cel': 'Cello', 'cla' : 'Clarinet', 'flu' : 'Flute', 'gac' : 'Acoustic guitar',\n",
        "        'gel' : 'Electric guitar', 'org' : 'Organ', 'pia' : 'Piano', \n",
        "        'sax' : 'Saxophone', 'tru' : 'Trumpet', 'vio' : 'Violin', 'voi' : 'Human singing voice'\n",
        "    }\n",
        "    def __init__(self, \n",
        "            dataset_path: str = 'irmas',\n",
        "            val = False,\n",
        "        ):\n",
        "        self.instruments = self.INSTRUMENTS\n",
        "        self.instruments_key = self.INSTRUMENTS_KEY\n",
        "\n",
        "        if val == False and dataset_path == 'irmas':\n",
        "            dir_path = os.path.dirname(os.path.realpath(__file__))\n",
        "            dataset_path = os.path.join(os.path.dirname(dir_path), dataset_path)\n",
        "        \n",
        "\n",
        "        # initialize IRMAS path \n",
        "        if val == False:\n",
        "          if os.path.exists(dataset_path):\n",
        "            self.dataset_path = dataset_path\n",
        "          else:\n",
        "            sys.exit(\"Dataset path does not exist\")\n",
        "        \n",
        "        if val:\n",
        "          self.dataset_path = dataset_path\n",
        "\n",
        "        # make sure the instruments passed in are valid\n",
        "        for instrument in self.instruments:\n",
        "            assert instrument in self.INSTRUMENTS, f\"{instrument} is not a valid instrument\"\n",
        "\n",
        "        # load all tracks for this instrument\n",
        "        if val:\n",
        "            self.load_all_tracks_val()\n",
        "        else:\n",
        "            self.load_all_tracks()\n",
        "\n",
        "\n",
        "    def load_all_tracks(self):\n",
        "        self.tracks = []\n",
        "        for subdir, dirs, files in os.walk(self.dataset_path):\n",
        "            for dir in dirs:\n",
        "                if dir in self.instruments_key.keys():\n",
        "                    for subdir_dir, dirs_dir, files_dir in os.walk(os.path.join(subdir, dir)):\n",
        "                        for file in files_dir:\n",
        "                            self.tracks.append([os.path.join(subdir, dir, file), self.instruments_key[dir]])\n",
        "\n",
        "    def load_all_tracks_val(self):\n",
        "        self.tracks = []\n",
        "        for paths in self.dataset_path:\n",
        "          for subdir, dirs, files in os.walk(paths, topdown=True):\n",
        "              for file in sorted(files)[::2]:\n",
        "                  f = open(os.path.join(subdir, file), \"rb\")\n",
        "                  tags = f.readlines()\n",
        "                  for tag in tags:\n",
        "                      tag = tag[:3].decode(\"utf-8\") \n",
        "                      f.close()\n",
        "                      if tag in self.instruments_key.keys():\n",
        "                          wav_file = os.path.join(subdir, file).replace('.txt', '.wav')\n",
        "                          if os.path.exists(wav_file):\n",
        "                            self.tracks.append([wav_file, self.instruments_key[tag]])\n",
        "\n",
        "    @property\n",
        "    def classlist(self) -> List[str]:\n",
        "        return self.instruments\n",
        "\n",
        "    @property\n",
        "    def class_to_indices(self) -> Dict[str, List[int]]:\n",
        "        # cache it in self._class_to_indices \n",
        "        # so we don't have to recompute it every time\n",
        "        if not hasattr(self, \"_class_to_indices\"):\n",
        "            self._class_to_indices = defaultdict(list)\n",
        "            for i, track in enumerate(self.tracks):\n",
        "                self._class_to_indices[track[1]].append(i)\n",
        "\n",
        "        return self._class_to_indices\n",
        "\n",
        "    def __getitem__(self, index) -> Dict:\n",
        "        # load the track for this index\n",
        "        track = self.tracks[index]\n",
        "        data= {\n",
        "        \"path\": track[0], \n",
        "        \"label\": track[1]\n",
        "        }\n",
        "        return data\n",
        "\n",
        "    def __len__(self) -> int:\n",
        "        return len(self.tracks)"
      ],
      "metadata": {
        "id": "jxR8Lf37hdnd"
      },
      "execution_count": null,
      "outputs": []
    },
    {
      "cell_type": "code",
      "source": [
        "# initialize the datasets\n",
        "train_data = IRMAS(\n",
        "    dataset_path = '/content/drive/MyDrive/irmas/training/IRMAS-TrainingData'\n",
        ")\n",
        "\n",
        "val_data = IRMAS(\n",
        "    dataset_path = ['/content/drive/MyDrive/irmas/testing/Part1', '/content/drive/MyDrive/irmas/testing/IRMAS-TestingData-Part2/IRTestingData-Part2', '/content/drive/MyDrive/irmas/testing/IRMAS-TestingData-Part3/Part3'],\n",
        "    val = True\n",
        ")"
      ],
      "metadata": {
        "id": "vniuI0WYiE6l"
      },
      "execution_count": null,
      "outputs": []
    },
    {
      "cell_type": "code",
      "source": [
        "print(len(train_data.tracks))\n",
        "for instrument, indices in train_data.class_to_indices.items():\n",
        "    print(f\"{instrument} has {len(indices)} examples\")"
      ],
      "metadata": {
        "colab": {
          "base_uri": "https://localhost:8080/"
        },
        "id": "3G_CIcQ_lMan",
        "outputId": "6fc8c9ed-a488-45d5-b32c-ddc15c835eb3"
      },
      "execution_count": null,
      "outputs": [
        {
          "output_type": "stream",
          "name": "stdout",
          "text": [
            "6431\n",
            "Organ has 682 examples\n",
            "Human singing voice has 778 examples\n",
            "Flute has 451 examples\n",
            "Acoustic guitar has 637 examples\n",
            "Piano has 721 examples\n",
            "Cello has 388 examples\n",
            "Trumpet has 577 examples\n",
            "Saxophone has 352 examples\n",
            "Violin has 580 examples\n",
            "Clarinet has 505 examples\n",
            "Electric guitar has 760 examples\n"
          ]
        }
      ]
    },
    {
      "cell_type": "code",
      "source": [
        "import numpy as np\n",
        "num = [i[1] for i in dataset_split]\n",
        "mean = np.mean(num)\n",
        "print(f'mean: {mean}')\n",
        "\n",
        "min = np.min(num)\n",
        "print(f'min: {min}')\n",
        "\n",
        "max = np.max(num)\n",
        "print(f'max: {max}')\n",
        "\n",
        "std = np.std(num)\n",
        "print(f'std: {std}')"
      ],
      "metadata": {
        "colab": {
          "base_uri": "https://localhost:8080/"
        },
        "id": "EmewMQjqs9jZ",
        "outputId": "c65e2c11-b549-478d-e8e5-43ed18eb1805"
      },
      "execution_count": null,
      "outputs": [
        {
          "output_type": "stream",
          "name": "stdout",
          "text": [
            "mean: 651.9166666666666\n",
            "min: 159\n",
            "max: 1671\n",
            "std: 435.6882406670572\n"
          ]
        }
      ]
    },
    {
      "cell_type": "code",
      "source": [
        "import numpy as np\n",
        "import matplotlib.pyplot as plt\n",
        " \n",
        "instruments = [i[0] for i in dataset_split]\n",
        "print(instruments)\n",
        "values = [i[1] for i in dataset_split]\n",
        "print(values)\n",
        "  \n",
        "print\n",
        "fig = plt.figure(figsize = (15, 7))\n",
        " \n",
        "# creating the bar plot\n",
        "plt.bar(instruments, values, color ='maroon',\n",
        "        width = 0.4)\n",
        "plt.yticks(fontsize=20)\n",
        "plt.xticks(fontsize=15)\n",
        "plt.xticks(rotation=30)\n",
        "plt.xlabel(\"Instrumenty\")\n",
        "plt.ylabel(\"Liczba instrumentów\")\n",
        "plt.savefig('/content/irmas_train_distribution.png')\n",
        "plt.show()"
      ],
      "metadata": {
        "colab": {
          "base_uri": "https://localhost:8080/",
          "height": 396
        },
        "id": "8w5xtqkDs_wA",
        "outputId": "9d8e87e4-8226-4a27-f7a7-c7309a174270"
      },
      "execution_count": null,
      "outputs": [
        {
          "output_type": "stream",
          "name": "stdout",
          "text": [
            "['violin', 'cello', 'oboe', 'flute', 'sax_soprane', 'clarinet', 'bass', 'trumpet', 'sax_tenor', 'sax_alto', 'sax_bariton', 'piccolo']\n",
            "[1053, 951, 247, 968, 334, 1671, 159, 920, 449, 395, 288, 388]\n"
          ]
        },
        {
          "output_type": "display_data",
          "data": {
            "text/plain": [
              "<Figure size 1080x504 with 1 Axes>"
            ],
            "image/png": "[encoded data removed]"
          },
          "metadata": {
            "needs_background": "light"
          }
        }
      ]
    },
    {
      "cell_type": "code",
      "source": [
        "print(len(val_data.tracks))\n",
        "for instrument, indices in val_data.class_to_indices.items():\n",
        "    print(f\"{instrument} has {len(indices)} examples\")"
      ],
      "metadata": {
        "colab": {
          "base_uri": "https://localhost:8080/"
        },
        "id": "ksI311Whxult",
        "outputId": "f63659c0-37a9-4b7f-f116-a25875c93c66"
      },
      "execution_count": null,
      "outputs": [
        {
          "output_type": "stream",
          "name": "stdout",
          "text": [
            "4917\n",
            "Electric guitar has 942 examples\n",
            "Human singing voice has 1044 examples\n",
            "Piano has 995 examples\n",
            "Acoustic guitar has 535 examples\n",
            "Organ has 361 examples\n",
            "Cello has 111 examples\n",
            "Saxophone has 326 examples\n",
            "Trumpet has 167 examples\n",
            "Violin has 211 examples\n",
            "Flute has 163 examples\n",
            "Clarinet has 62 examples\n"
          ]
        }
      ]
    }
  ]
}